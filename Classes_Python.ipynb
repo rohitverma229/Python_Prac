{
 "cells": [
  {
   "cell_type": "code",
   "execution_count": 8,
   "metadata": {},
   "outputs": [
    {
     "data": {
      "text/plain": [
       "12.568"
      ]
     },
     "execution_count": 8,
     "metadata": {},
     "output_type": "execute_result"
    }
   ],
   "source": [
    "class Cal(object):\n",
    "    # pi is a class variable\n",
    "    pi = 3.142\n",
    "\n",
    "    def __init__(self, radius):\n",
    "        # self.radius is an instance variable\n",
    "        self.radius = radius\n",
    "\n",
    "    def area(self):\n",
    "        return self.pi * (self.radius ** 2)\n",
    "    \n",
    "obj = Cal(2)\n",
    "obj.pi\n",
    "obj.area()"
   ]
  },
  {
   "cell_type": "code",
   "execution_count": 12,
   "metadata": {},
   "outputs": [
    {
     "data": {
      "text/plain": [
       "['fly']"
      ]
     },
     "execution_count": 12,
     "metadata": {},
     "output_type": "execute_result"
    }
   ],
   "source": [
    "class SuperClass(object):\n",
    "    superpowers = []\n",
    "\n",
    "    def __init__(self, name):\n",
    "        self.name = name\n",
    "\n",
    "    def add_superpower(self, power):\n",
    "        self.superpowers.append(power)\n",
    "\n",
    "foo = SuperClass('foo')\n",
    "bar = SuperClass('bar')\n",
    "foo.name\n",
    "bar.name\n",
    "foo.add_superpower('fly')\n",
    "bar.superpowers\n",
    "foo.superpowers"
   ]
  },
  {
   "cell_type": "code",
   "execution_count": 13,
   "metadata": {},
   "outputs": [
    {
     "name": "stdout",
     "output_type": "stream",
     "text": [
      "I am an old class\n",
      "I am a jazzy new class\n"
     ]
    }
   ],
   "source": [
    "class OldClass():\n",
    "    def __init__(self):\n",
    "        print('I am an old class')\n",
    "\n",
    "class NewClass(object):\n",
    "    def __init__(self):\n",
    "        print('I am a jazzy new class')\n",
    "\n",
    "old = OldClass()\n",
    "# Output: I am an old class\n",
    "\n",
    "new = NewClass()\n",
    "# Output: I am a jazzy new class"
   ]
  },
  {
   "cell_type": "code",
   "execution_count": 1,
   "metadata": {},
   "outputs": [
    {
     "name": "stdout",
     "output_type": "stream",
     "text": [
      "Greetings!!\n",
      "I am another method which is not automatically called\n"
     ]
    }
   ],
   "source": [
    "class GetTest(object):\n",
    "    def __init__(self):\n",
    "        print('Greetings!!')\n",
    "    def another_method(self):\n",
    "        print('I am another method which is not'\n",
    "              ' automatically called')\n",
    "\n",
    "a = GetTest()\n",
    "# Output: Greetings!!\n",
    "\n",
    "a.another_method()\n",
    "# Output: I am another method which is not automatically\n",
    "# called"
   ]
  },
  {
   "cell_type": "code",
   "execution_count": 21,
   "metadata": {},
   "outputs": [
    {
     "name": "stdout",
     "output_type": "stream",
     "text": [
      "Greetings!! Rohit\n"
     ]
    }
   ],
   "source": [
    "class GetTest(object):\n",
    "    def __init__(self, name):\n",
    "        print('Greetings!! {0}'.format(name))\n",
    "    def another_method(self):\n",
    "        print('I am another method which is not'\n",
    "              ' automatically called')\n",
    "\n",
    "a = GetTest('Rohit')\n",
    "# Output: Greetings!! Rohit\n",
    "\n",
    "# Try creating an instance without the name arguments\n",
    "#b = GetTest()\n"
   ]
  },
  {
   "cell_type": "code",
   "execution_count": 22,
   "metadata": {},
   "outputs": [
    {
     "data": {
      "text/plain": [
       "'India'"
      ]
     },
     "execution_count": 22,
     "metadata": {},
     "output_type": "execute_result"
    }
   ],
   "source": [
    "class GetTest(object):\n",
    "    def __init__(self):\n",
    "        self.info = {'name':'Rohit','country':'India','number':12345812}\n",
    "\n",
    "    def __getitem__(self,i):\n",
    "        return self.info[i]\n",
    "\n",
    "foo = GetTest()\n",
    "\n",
    "foo['name']\n",
    "# Output: 'Rohit'\n",
    "foo['country']\n",
    "#foo['number']\n",
    "# Output: 12345812"
   ]
  },
  {
   "cell_type": "code",
   "execution_count": 11,
   "metadata": {},
   "outputs": [
    {
     "name": "stdout",
     "output_type": "stream",
     "text": [
      "Name: John Doe, Opening Balance: 2100\n",
      "Name: Jane Defoe, Opening Balance: 10100\n"
     ]
    },
    {
     "data": {
      "text/plain": [
       "2200"
      ]
     },
     "execution_count": 11,
     "metadata": {},
     "output_type": "execute_result"
    }
   ],
   "source": [
    "class Client(object):\n",
    "    bank = \"YES BANK\"\n",
    "    location = \"HYD\"    \n",
    "    \n",
    "    def __init__(self, name, balance):\n",
    "        self.name = name\n",
    "        self.balance = balance + 100\n",
    "        \n",
    "        if self.balance < 5000:\n",
    "            self.level = \"Basic\"\n",
    "        elif self.balance < 15000:\n",
    "            self.level = \"Intermediate\"\n",
    "        else:\n",
    "            self.level = \"Advanced\"\n",
    "        \n",
    "        print(\"Name: %s, Opening Balance: %s\" % (self.name, self.balance))\n",
    "            \n",
    "    def deposit(self, amount):\n",
    "        self.balance += amount\n",
    "        return self.balance\n",
    "    \n",
    "    def withdraw(self, amount):\n",
    "        if amount > self.balance:\n",
    "            raise RuntimeError(\"Insufficient Funds\")\n",
    "        else: \n",
    "            self.balance -= amount\n",
    "        return self.balance\n",
    "            \n",
    "    @staticmethod\n",
    "    def make_money_sound():\n",
    "        print(\"Cha-Ching!\")\n",
    "        \n",
    "    @classmethod\n",
    "    def bank_location(cls):\n",
    "        print(\"%s %s\" % (cls.bank, cls.location)) \n",
    "    \n",
    "class Savings(Client):\n",
    "    interest_rate = 0.001       \n",
    "    \n",
    "    def update_balance(self):\n",
    "        self.balance += self.balance*self.interest_rate\n",
    "        return self.balance\n",
    "#defining a method outside the class definition\n",
    "def check_balance(self):\n",
    "    return self.balance\n",
    "\n",
    "#Client.check_balance = check_balance\n",
    "\n",
    "#John_Doe.check_balance()\n",
    "\n",
    "John_Doe = Client(\"John Doe\", 2000)           #First portion to be verify\n",
    "Jane_Defoe = Client(\"Jane Defoe\", 10000)\n",
    "\n",
    "John_Doe.name\n",
    "#John_Doe.balance\n",
    "#Jane_Defoe.level\n",
    "\n",
    "#John_Doe.email = \"jdoe23@gmail.com\"\n",
    "#John_Doe.email = \"johndoe23@gmail.com\"\n",
    "#del John_Doe.email\n",
    "\n",
    "# try calling these attributes at the class and instance level\n",
    "#Client.bank\n",
    "#Jane_Defoe.location\n",
    "\n",
    "# Try calling a method two different ways\n",
    "#John_Doe.withdraw(100)\n",
    "#Client.withdraw(John_Doe, 100)\n",
    "John_Doe.deposit(100)\n",
    "#Client.make_money_sound()\n",
    "#Jane_Defoe.make_money_sound()\n",
    "#Client.bank_location()\n",
    "\n",
    "# create an instance the same way as a Client but this time by calling Savings \n",
    "# instead        \n",
    "#Lina_Tran = Savings(\"Lina Tran\", 50) \n",
    "\n",
    "# it now has access to the new attributes and methods in Savings...\n",
    "#Lina_Tran.update_balance()\n",
    "\n",
    "# ...as well as access to attributes and methods from the Client class\n",
    "#Lina_Tran.deposit(200)\n",
    "#print Lina_Tran.name\n",
    "#print Lina_Tran.balance\n",
    "\n"
   ]
  },
  {
   "cell_type": "code",
   "execution_count": null,
   "metadata": {},
   "outputs": [],
   "source": []
  }
 ],
 "metadata": {
  "kernelspec": {
   "display_name": "Python 3",
   "language": "python",
   "name": "python3"
  },
  "language_info": {
   "codemirror_mode": {
    "name": "ipython",
    "version": 3
   },
   "file_extension": ".py",
   "mimetype": "text/x-python",
   "name": "python",
   "nbconvert_exporter": "python",
   "pygments_lexer": "ipython3",
   "version": "3.7.1"
  }
 },
 "nbformat": 4,
 "nbformat_minor": 2
}
