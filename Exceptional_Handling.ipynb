{
 "cells": [
  {
   "cell_type": "code",
   "execution_count": 4,
   "metadata": {},
   "outputs": [
    {
     "name": "stdout",
     "output_type": "stream",
     "text": [
      "The entry is a\n",
      "Oops! <class 'ValueError'> occured.\n",
      "Next entry.\n",
      "\n",
      "The entry is 0\n",
      "Oops! <class 'ZeroDivisionError'> occured.\n",
      "Next entry.\n",
      "\n",
      "The entry is 2\n",
      "The reciprocal of 2 is 0.5\n"
     ]
    }
   ],
   "source": [
    "#import module sys to get the type of exceptions\n",
    "import sys\n",
    "randomList = ['a', '0' , '2']\n",
    "for i in randomList:\n",
    "    try:\n",
    "        print(\"The entry is\", i)\n",
    "        res = 1/int(i)\n",
    "        break\n",
    "    except:\n",
    "        print(\"Oops!\",sys.exc_info()[0],\"occured.\")\n",
    "        print(\"Next entry.\")\n",
    "        print()\n",
    "print(\"The reciprocal of\",i,\"is\",res)"
   ]
  },
  {
   "cell_type": "code",
   "execution_count": 10,
   "metadata": {},
   "outputs": [
    {
     "name": "stdout",
     "output_type": "stream",
     "text": [
      "Enter first no.0\n",
      "Enter second no.0\n",
      "Can't divided by zero\n"
     ]
    }
   ],
   "source": [
    "try:\n",
    "    a = int(input(\"Enter first no.\"))\n",
    "    b = int(input(\"Enter second no.\"))\n",
    "    print(\"Result is \", a//b)\n",
    "except Exception:\n",
    "    print(\"Can't divided by zero\")\n",
    "else:\n",
    "    print(\"Run this code if no exception is occoured\")\n",
    "    "
   ]
  },
  {
   "cell_type": "code",
   "execution_count": 16,
   "metadata": {},
   "outputs": [
    {
     "name": "stdout",
     "output_type": "stream",
     "text": [
      "file closed\n"
     ]
    }
   ],
   "source": [
    "try:  \n",
    "    fileptr = open(\"file.txt\",\"w\")    \n",
    "    try:  \n",
    "        fileptr.write(\"Hi I am good\")  \n",
    "    finally:  \n",
    "        fileptr.close()  \n",
    "        print(\"file closed\")  \n",
    "except:  \n",
    "    print(\"Error\")  "
   ]
  },
  {
   "cell_type": "code",
   "execution_count": null,
   "metadata": {},
   "outputs": [],
   "source": []
  }
 ],
 "metadata": {
  "kernelspec": {
   "display_name": "Python 3",
   "language": "python",
   "name": "python3"
  },
  "language_info": {
   "codemirror_mode": {
    "name": "ipython",
    "version": 3
   },
   "file_extension": ".py",
   "mimetype": "text/x-python",
   "name": "python",
   "nbconvert_exporter": "python",
   "pygments_lexer": "ipython3",
   "version": "3.7.1"
  }
 },
 "nbformat": 4,
 "nbformat_minor": 2
}
