{
 "cells": [
  {
   "cell_type": "code",
   "execution_count": 2,
   "metadata": {},
   "outputs": [
    {
     "name": "stdout",
     "output_type": "stream",
     "text": [
      "thon\n"
     ]
    }
   ],
   "source": [
    "test = 'pythonprogramming'\n",
    "print(test[2:6])"
   ]
  },
  {
   "cell_type": "code",
   "execution_count": 4,
   "metadata": {},
   "outputs": [
    {
     "name": "stdout",
     "output_type": "stream",
     "text": [
      "Always executed\n",
      "Executed when invoked directly\n"
     ]
    }
   ],
   "source": [
    "print(\"Always executed\") \n",
    "  \n",
    "if __name__ == \"__main__\": \n",
    "    print(\"Executed when invoked directly\")\n",
    "else: \n",
    "    print(\"Executed when imported\") "
   ]
  },
  {
   "cell_type": "code",
   "execution_count": 7,
   "metadata": {},
   "outputs": [],
   "source": [
    "class Animal:\n",
    "    SOUND = None\n",
    "\n",
    "    def make_sound(self):\n",
    "        raise NotImplementedError\n",
    "\n",
    "\n",
    "class Dog(Animal):\n",
    "    SOUND = 'woof'\n",
    "\n",
    "    def __init__(self, name, age):\n",
    "        self.name = name\n",
    "        self.age = age\n",
    "        self.speed = 0\n",
    "        self.moving = False\n",
    "\n",
    "    @property\n",
    "    def human_age(self):\n",
    "        return self.age * 7\n",
    "\n",
    "    @human_age.setter\n",
    "    def human_age(self, value):\n",
    "        self.age = value / 7\n",
    "\n",
    "    def __str__(self):\n",
    "        return '{} is {} years old'.format(\n",
    "            self.name, self.age\n",
    "        )\n",
    "\n",
    "    def __eq__(self, other):\n",
    "        return self.name == other.name and self.age == other.age\n",
    "\n",
    "    def make_sound(self):\n",
    "        print(self.SOUND)\n",
    "\n",
    "    def bark(self):\n",
    "        self.make_sound()\n",
    "\n",
    "    def walk(self, speed, distance):\n",
    "        self._set_speed(speed)\n",
    "        self._move(distance)\n",
    "\n",
    "    @classmethod\n",
    "    def can_woof(cls, animal):\n",
    "        return animal.SOUND == cls.SOUND\n",
    "\n",
    "    @staticmethod\n",
    "    def is_dog(animal):\n",
    "        return animal.can_woof()\n",
    "\n",
    "    def _set_speed(self, speed):\n",
    "        self.speed = speed\n",
    "\n",
    "    def _move(self, distance):\n",
    "        self.moving = True\n",
    "        for _ in range(distance):\n",
    "            print('.', end='')\n",
    "        print('')"
   ]
  },
  {
   "cell_type": "code",
   "execution_count": null,
   "metadata": {},
   "outputs": [],
   "source": [
    "def fun_add(a,b):\n",
    "    return a+b\n",
    "i = int(input('Enter first no.'))\n",
    "j = int(input('Enter second no.'))\n",
    "print('addition is:', fun_add(i,j))"
   ]
  },
  {
   "cell_type": "code",
   "execution_count": null,
   "metadata": {},
   "outputs": [],
   "source": [
    "a = lambda a:a+10\n",
    "print(a(6))"
   ]
  },
  {
   "cell_type": "code",
   "execution_count": 26,
   "metadata": {
    "scrolled": true
   },
   "outputs": [
    {
     "name": "stdout",
     "output_type": "stream",
     "text": [
      "Enter the number?4\n",
      "4 X 1 = 4\n",
      "4 X 2 = 8\n",
      "4 X 3 = 12\n",
      "4 X 4 = 16\n",
      "4 X 5 = 20\n",
      "4 X 6 = 24\n",
      "4 X 7 = 28\n",
      "4 X 8 = 32\n",
      "4 X 9 = 36\n",
      "4 X 10 = 40\n"
     ]
    }
   ],
   "source": [
    "def table(n):  \n",
    "    return lambda a:a*n;  \n",
    "n = int(input(\"Enter the number?\"))  \n",
    "b = table(n) \n",
    "for i in range(1,11):  \n",
    "    print(n,\"X\",i,\"=\",b(i))    "
   ]
  },
  {
   "cell_type": "code",
   "execution_count": 1,
   "metadata": {},
   "outputs": [
    {
     "name": "stdout",
     "output_type": "stream",
     "text": [
      "['Project_Code', 'Project_Name', 'Employee_Name']\n",
      "['TRZ073', 'Testing Unassigned', 'Aashish Ola']\n",
      "['RAK003', 'Technical & Project Consultant', 'Abrar Sherief']\n",
      "['NAP092', 'RA and LatX Support', 'Aditya Chandra Tiruveedhula']\n",
      "['TRZ073', 'Testing Unassigned', 'Aiyappa Ponnachanda']\n",
      "['TRZ953', 'Unassigned - IT Services', 'Ajay Dubey']\n",
      "['TRZ074', 'Packaged Apps Unassigned', 'Ajay Gunuru']\n",
      "['RAK002', 'e-Portal', 'Ajay Krishna S']\n",
      "['TRZ072', 'Java Unassigned', 'Alakesh Sarma']\n",
      "['LMU004', 'Rapid/Libra', 'Alexander Geevargheese']\n",
      "['PEN001', 'IQPC', 'Amarnath Archalwar']\n",
      "['LMU037', 'PMIM - BI_QA', 'Amarnath Reddy Penumur']\n",
      "['TRZ073', 'Testing Unassigned', 'Ambuj Saran Bhatnagar']\n",
      "['NAP087', 'Magma P2', 'Amit Patel']\n",
      "['TRZ072', 'Java Unassigned', 'Amogh Walvadkar']\n",
      "['TRZ068', 'Microsoft - Unassigned', 'Amsu Muhammed']\n",
      "['LMU055', 'Libra Publishing', 'AnandKumar Kadiveti']\n",
      "['TRZ-852', 'Unassigned  -  ITSM', 'Anantha Padmanabhan']\n",
      "['PEN001', 'IQPC', 'Anilkumar Dandu']\n",
      "['AHM001', 'BMC Service Mgmt at AH', 'AnilKumar Duvvuru']\n",
      "['TRZ072', 'Java Unassigned', 'Anitha Shastry']\n",
      "['TRZ073', 'Testing Unassigned', 'Anjan Kumar Roy']\n",
      "['RAK002', 'e-Portal', 'Anjith Kumar Koyada']\n",
      "['TRZ068', 'Microsoft - Unassigned', 'Ankit Hazra']\n",
      "['BNA014', 'Brinks ERP Support', 'Ankur Aneja']\n",
      "['ENT003', 'Get Access - ENT', 'Anuj Chakravarty']\n",
      "['TRZ068', 'Microsoft - Unassigned', 'Anuradha Rani']\n",
      "['TRZ073', 'Testing Unassigned', 'Anurag Gupta']\n",
      "['LMU011', 'Legal & Compliance Application', 'Appa Rao Pathuri']\n",
      "['TRZ074', 'Packaged Apps Unassigned', 'Aravindhan Vinayagam']\n",
      "['LMU035', 'PMIM - Development', 'Archana Peddada']\n",
      "['LMU027', 'PMIT - Production Support', 'Archana Sivaraj']\n",
      "['TRZ058', 'Acceliant Clinical Trial Soln', 'Arun Subburathinam']\n",
      "['TRZ073', 'Testing Unassigned', 'Aruna M']\n",
      "['ENT007', 'Security Manager-ENT', 'Ashish Jaiswal']\n",
      "['NYL006', 'NYLIM-Sharepoint Admin Support', 'Ashish Lall']\n",
      "['TRZ074', 'Packaged Apps Unassigned', 'Ashutosh Dixit']\n",
      "['TRZ072', 'Java Unassigned', 'Ashutosh Sharma']\n",
      "['LMU035', 'PMIM - Development', 'Ashwin Kumar Naram']\n",
      "['PEN001', 'IQPC', 'AshwinBabu Bandarapu']\n",
      "['TRZ068', 'Microsoft - Unassigned', 'Asif Hasan Khan']\n"
     ]
    }
   ],
   "source": [
    "import csv\n",
    "with open('testcsv.csv','rt') as f:\n",
    "    data = csv.reader(f)\n",
    "    #next(data)\n",
    "    with open('newcsv.csv','w') as newfile:\n",
    "        data2 = csv.writer(newfile, delimiter = '\\t')\n",
    "        for row in data:\n",
    "            data2.writerow(row)\n",
    "            print(row[1:4])"
   ]
  },
  {
   "cell_type": "code",
   "execution_count": 12,
   "metadata": {},
   "outputs": [
    {
     "name": "stdout",
     "output_type": "stream",
     "text": [
      "Enter first no.60\n",
      "Enter second no.59\n",
      "Enter third no.30\n",
      "149\n"
     ]
    }
   ],
   "source": [
    "res = lambda a,b,c:a+b+c\n",
    "i = int(input(\"Enter first no.\"))\n",
    "j = int(input(\"Enter second no.\"))\n",
    "k = int(input(\"Enter third no.\"))\n",
    "print(res(i,j,k))"
   ]
  },
  {
   "cell_type": "code",
   "execution_count": 2,
   "metadata": {},
   "outputs": [
    {
     "name": "stdout",
     "output_type": "stream",
     "text": [
      "24\n"
     ]
    }
   ],
   "source": [
    "def myfun(n):\n",
    "    return lambda a:a*n\n",
    "\n",
    "varr = myfun(2)\n",
    "print(varr(12))\n",
    "        "
   ]
  },
  {
   "cell_type": "code",
   "execution_count": 9,
   "metadata": {},
   "outputs": [
    {
     "name": "stdout",
     "output_type": "stream",
     "text": [
      "(1, 'assem X', 2, 'part B', 1)\n",
      "(2, 'assem Y', 6, 'part B', 2)\n"
     ]
    }
   ],
   "source": [
    "import mysql.connector\n",
    "\n",
    "mydb = mysql.connector.connect(host=\"localhost\", user=\"root\",passwd=\"Aimsys\",database=\"aimsys\")\n",
    "mycursor = mydb.cursor()\n",
    "mycursor.execute(\"\"\"SELECT A.*, p.* \n",
    "                    FROM assemblies A\n",
    "                    LEFT JOIN parts P USING (Aid)\n",
    "                    WHERE P.Pname='Part B';\"\"\")\n",
    "for i in mycursor:\n",
    "    print(i)\n",
    "\n",
    "\n",
    "\n"
   ]
  },
  {
   "cell_type": "code",
   "execution_count": 13,
   "metadata": {},
   "outputs": [
    {
     "name": "stdout",
     "output_type": "stream",
     "text": [
      "(1, 100, 33, 32, 35)\n",
      "(2, 101, 33, 32, 36)\n",
      "(3, 125, 41, 40, 44)\n",
      "(4, 104, 34, 33, 37)\n",
      "(5, 106, 35, 34, 37)\n"
     ]
    }
   ],
   "source": [
    "import mysql.connector\n",
    "\n",
    "mydb = mysql.connector.connect(host=\"localhost\", user=\"root\",passwd=\"Aimsys\",database=\"aimsys\")\n",
    "mycursor = mydb.cursor()\n",
    "mycursor.execute(\"\"\"select distinct insurance.ins_id, insurance.ins_ammount,    \n",
    "cast((insurance.ins_ammount/100)*33 as signed) as premium, \n",
    "cast((insurance.ins_ammount/100)*32 as signed) as brokerage,\n",
    "\t(\n",
    "\t\tselect insurance.ins_ammount-(premium + brokerage \n",
    "        + (cast((insurance.ins_ammount/100)*35 as signed))) \n",
    "        + (cast((insurance.ins_ammount/100)*35 as signed)) \n",
    "\t) as admins\n",
    "from insurance\n",
    "group by ins_id;\"\"\")\n",
    "for i in mycursor:\n",
    "    print(i)"
   ]
  },
  {
   "cell_type": "code",
   "execution_count": 5,
   "metadata": {},
   "outputs": [
    {
     "name": "stdout",
     "output_type": "stream",
     "text": [
      "(1, 'abc', 10)\n",
      "(2, 'xyz', 20)\n",
      "(3, 'tuv', None)\n"
     ]
    }
   ],
   "source": [
    "import mysql.connector\n",
    "\n",
    "varr = mysql.connector.connect(host = 'localhost', user = 'root', passwd = 'Aimsys', database = 'aimsys')\n",
    "mycursor  = varr.cursor()\n",
    "mycursor.execute(\"select * from employees\")\n",
    "for i in mycursor:\n",
    "    print(i)"
   ]
  },
  {
   "cell_type": "code",
   "execution_count": 3,
   "metadata": {},
   "outputs": [],
   "source": [
    "import mysql.connector\n",
    "\n",
    "varr = mysql.connector.connect(host = 'localhost', user = 'root', passwd = 'Aimsys', database = 'aimsys')\n",
    "mycursor  = varr.cursor()\n",
    "sql_commend = \"select * from insurance\"\n",
    "mycursor.execute(sql_commend)\n",
    "for i in mycursor:\n",
    "    print(i)"
   ]
  },
  {
   "cell_type": "code",
   "execution_count": 68,
   "metadata": {},
   "outputs": [
    {
     "ename": "ModuleNotFoundError",
     "evalue": "No module named 'tabulate'",
     "output_type": "error",
     "traceback": [
      "\u001b[1;31m---------------------------------------------------------------------------\u001b[0m",
      "\u001b[1;31mModuleNotFoundError\u001b[0m                       Traceback (most recent call last)",
      "\u001b[1;32m<ipython-input-68-e7162575859d>\u001b[0m in \u001b[0;36m<module>\u001b[1;34m\u001b[0m\n\u001b[1;32m----> 1\u001b[1;33m \u001b[1;32mfrom\u001b[0m \u001b[0mtabulate\u001b[0m \u001b[1;32mimport\u001b[0m \u001b[0mtabulate\u001b[0m\u001b[1;33m\u001b[0m\u001b[1;33m\u001b[0m\u001b[0m\n\u001b[0m\u001b[0;32m      2\u001b[0m mydata = [(\"Nikhil\", \"Delhi\",\"7\"),\n\u001b[0;32m      3\u001b[0m         \u001b[1;33m(\u001b[0m\u001b[1;34m\"Ravi\"\u001b[0m\u001b[1;33m,\u001b[0m \u001b[1;34m\"Kanpur\"\u001b[0m\u001b[1;33m,\u001b[0m\u001b[1;34m\"8\"\u001b[0m\u001b[1;33m)\u001b[0m\u001b[1;33m,\u001b[0m\u001b[1;33m\u001b[0m\u001b[1;33m\u001b[0m\u001b[0m\n\u001b[0;32m      4\u001b[0m         \u001b[1;33m(\u001b[0m\u001b[1;34m\"Nikhil\"\u001b[0m\u001b[1;33m,\u001b[0m \u001b[1;34m\"Delhi\"\u001b[0m\u001b[1;33m,\u001b[0m\u001b[1;34m\"9\"\u001b[0m\u001b[1;33m)\u001b[0m\u001b[1;33m,\u001b[0m\u001b[1;33m\u001b[0m\u001b[1;33m\u001b[0m\u001b[0m\n\u001b[0;32m      5\u001b[0m \t(\"Nikhil\", \"Delhi\",\"6\")]\n",
      "\u001b[1;31mModuleNotFoundError\u001b[0m: No module named 'tabulate'"
     ]
    }
   ],
   "source": [
    "from tabulate import tabulate\n",
    "mydata = [(\"Nikhil\", \"Delhi\",\"7\"),\n",
    "\t(\"Ravi\", \"Kanpur\",\"8\"),\n",
    "\t(\"Nikhil\", \"Delhi\",\"9\"),\n",
    "\t(\"Nikhil\", \"Delhi\",\"6\")]\n",
    "\t\n",
    "header = [\"Name\", \"City\", \"Score\"]\n",
    "print(tabulate(mydata, headers = headers))"
   ]
  },
  {
   "cell_type": "code",
   "execution_count": null,
   "metadata": {},
   "outputs": [],
   "source": []
  },
  {
   "cell_type": "code",
   "execution_count": 7,
   "metadata": {},
   "outputs": [
    {
     "name": "stdout",
     "output_type": "stream",
     "text": [
      "[1, 4, 9, 16, 25, 36]\n"
     ]
    }
   ],
   "source": [
    "def func(num):\n",
    "\t\"\"\"\n",
    "\tfunction that squares the given number\n",
    "\t\"\"\"\n",
    "\treturn num * num\n",
    " \n",
    "l = [1, 2, 3, 4, 5, 6]\n",
    " \n",
    "# map takes a function and apply to \n",
    "# each element on the list\n",
    "ans = list(map(func, l))\n",
    " \n",
    "# [1, 4, 9, 16, 25, 36]\n",
    "print(ans)"
   ]
  },
  {
   "cell_type": "code",
   "execution_count": 8,
   "metadata": {},
   "outputs": [
    {
     "name": "stdout",
     "output_type": "stream",
     "text": [
      "[1, 4, 9, 16, 25, 36]\n"
     ]
    }
   ],
   "source": [
    "l = [1, 2, 3, 4, 5, 6]\n",
    "ans = list(map(lambda x:x*x,l))\n",
    "print(ans)"
   ]
  },
  {
   "cell_type": "code",
   "execution_count": 12,
   "metadata": {},
   "outputs": [
    {
     "name": "stdout",
     "output_type": "stream",
     "text": [
      "[1, 4, 27, 16, 125, 36]\n"
     ]
    }
   ],
   "source": [
    "#Given a list of integers, write a code to square even numbers but cube the odd numbers.\n",
    "l = [1, 2, 3, 4, 5, 6]\n",
    "ans = list(map(lambda x:x**2 if x % 2 == 0 else x**3,l))\n",
    "print(ans)\n"
   ]
  },
  {
   "cell_type": "code",
   "execution_count": 13,
   "metadata": {},
   "outputs": [
    {
     "name": "stdout",
     "output_type": "stream",
     "text": [
      "[2, 4, 6]\n"
     ]
    }
   ],
   "source": [
    "#Given a list of integers, write a code to separate only even numbers from the list.\n",
    "l = [1, 2, 3, 4, 5, 6]\n",
    "ans = list(filter(lambda x:x % 2 == 0,l))\n",
    "print(ans)"
   ]
  },
  {
   "cell_type": "code",
   "execution_count": 17,
   "metadata": {},
   "outputs": [
    {
     "name": "stdout",
     "output_type": "stream",
     "text": [
      "The sum of the list elements is : 17\n",
      "The maximum element of the list is : 6\n"
     ]
    }
   ],
   "source": [
    "import functools \n",
    "  \n",
    "# initializing list \n",
    "lis = [ 1 , 3, 5, 6, 2, ] \n",
    "  \n",
    "# using reduce to compute sum of list \n",
    "print (\"The sum of the list elements is : \",end=\"\") \n",
    "print (functools.reduce(lambda a,b : a+b,lis)) \n",
    "\n",
    "  \n",
    "# using reduce to compute maximum element from list \n",
    "print (\"The maximum element of the list is : \",end=\"\") \n",
    "print (functools.reduce(lambda a,b : a if a > b else b,lis)) "
   ]
  },
  {
   "cell_type": "code",
   "execution_count": 3,
   "metadata": {},
   "outputs": [
    {
     "name": "stdout",
     "output_type": "stream",
     "text": [
      "The sum of the list elements is : 17\n",
      "The product of list elements is : 180\n",
      "The concatenated product is : DigitalEvolutionSimplified\n"
     ]
    }
   ],
   "source": [
    "# importing functools for reduce() \n",
    "import functools \n",
    "  \n",
    "# importing operator for operator functions \n",
    "import operator \n",
    "  \n",
    "# initializing list \n",
    "lis = [ 1 , 3, 5, 6, 2,] \n",
    "  \n",
    "# using reduce to compute sum of list \n",
    "# using operator functions \n",
    "print (\"The sum of the list elements is : \",end=\"\") \n",
    "print (functools.reduce(operator.add,lis)) \n",
    "  \n",
    "# using reduce to compute product \n",
    "# using operator functions \n",
    "print (\"The product of list elements is : \",end=\"\") \n",
    "print (functools.reduce(operator.mul,lis)) \n",
    "  \n",
    "# using reduce to concatenate string \n",
    "print (\"The concatenated product is : \",end=\"\") \n",
    "print (functools.reduce(operator.add,[\"Digital\",\"Evolution\",\"Simplified\"]))"
   ]
  },
  {
   "cell_type": "code",
   "execution_count": 1,
   "metadata": {},
   "outputs": [
    {
     "name": "stdout",
     "output_type": "stream",
     "text": [
      "The summation of list using accumulate is :[1, 4, 8, 18, 22]\n",
      "The summation of list using reduce is :22\n"
     ]
    }
   ],
   "source": [
    "# importing itertools for accumulate() \n",
    "import itertools \n",
    "  \n",
    "# importing functools for reduce() \n",
    "import functools \n",
    "  \n",
    "# initializing list  \n",
    "lis = [ 1, 3, 4, 10, 4 ] \n",
    "  \n",
    "# priting summation using accumulate() \n",
    "print (\"The summation of list using accumulate is :\",end=\"\") \n",
    "print (list(itertools.accumulate(lis,lambda x,y : x+y))) \n",
    "  \n",
    "# priting summation using reduce() \n",
    "print (\"The summation of list using reduce is :\",end=\"\") \n",
    "print (functools.reduce(lambda x,y:x+y,lis)) "
   ]
  },
  {
   "cell_type": "code",
   "execution_count": 24,
   "metadata": {},
   "outputs": [
    {
     "name": "stdout",
     "output_type": "stream",
     "text": [
      "This will add this line\n",
      "\n",
      "adding another line\n"
     ]
    }
   ],
   "source": [
    "# a file named \"demo\", will be opened with the reading mode. \n",
    "file = open('demo.txt', 'r') \n",
    "#file.write(\"This is demo file\")\n",
    "\n",
    "\n",
    "# This will print every line one by one in the file \n",
    "for each in file: \n",
    "    print (each) \n"
   ]
  },
  {
   "cell_type": "code",
   "execution_count": 25,
   "metadata": {},
   "outputs": [],
   "source": [
    "file = open('demo.txt','a') \n",
    "file.write(\"This will add this line\\n\")\n",
    "file.write(\"adding another line\")\n",
    "file.close()"
   ]
  },
  {
   "cell_type": "code",
   "execution_count": null,
   "metadata": {},
   "outputs": [],
   "source": [
    "with open(\"demo.txt\", \"r\") as f:\n",
    "    lines = f.readlines()\n",
    "with open(\"demo.txt\", \"w\") as f:\n",
    "    for line in lines:\n",
    "        if line.strip(\"\\n\") != \"adding another line\":\n",
    "            f.write(line)"
   ]
  },
  {
   "cell_type": "code",
   "execution_count": 8,
   "metadata": {},
   "outputs": [
    {
     "name": "stdout",
     "output_type": "stream",
     "text": [
      "0o100666\n"
     ]
    },
    {
     "data": {
      "text/plain": [
       "True"
      ]
     },
     "execution_count": 8,
     "metadata": {},
     "output_type": "execute_result"
    }
   ],
   "source": [
    "import os\n",
    "import stat\n",
    "\n",
    "def checkpermissions(filepath):\n",
    "    st = os.stat(filepath)\n",
    "    oct_perm = oct(st.st_mode)\n",
    "    print(oct_perm)\n",
    "    return bool(st.st_mode & stat.S_IRGRP)\n",
    "checkpermissions(\"C:/Users/rohit.verma/Documents/Python_Prac/Test_Permission/file.txt\")\n"
   ]
  },
  {
   "cell_type": "code",
   "execution_count": 66,
   "metadata": {},
   "outputs": [
    {
     "name": "stdout",
     "output_type": "stream",
     "text": [
      "File access changed, can be read by others now.\n"
     ]
    }
   ],
   "source": [
    "import os, sys, stat \n",
    "  \n",
    "# Set given file read by the owner. \n",
    "#os.chmod(\"C:/Users/rohit.verma/Documents/Python_Prac/Test_Permission\", stat.S_IREAD) \n",
    "#print(\"File can be read only by owner.\") \n",
    "  \n",
    "# Set given file read by others. \n",
    "os.chmod(\"C:/Users/rohit.verma/Documents/Python_Prac/Test_Permission/file.txt\", stat.S_IROTH) \n",
    "print(\"File access changed, can be read by others now.\")\n"
   ]
  },
  {
   "cell_type": "code",
   "execution_count": 67,
   "metadata": {},
   "outputs": [],
   "source": [
    "import os, sys, stat \n",
    "  \n",
    "# Set given file written by the owner. \n",
    "os.chmod(\"C:/Users/rohit.verma/Documents/Python_Prac/Test_Permission/file.txt\", stat.S_IWRITE) \n",
    "  \n",
    "# Set given file executed by the owner. \n",
    "#os.chmod(\"file.txt\", stat.S_IXUSR) \n",
    "#print(\"File can be written and executed only by owner.\")"
   ]
  }
 ],
 "metadata": {
  "kernelspec": {
   "display_name": "Python 3",
   "language": "python",
   "name": "python3"
  },
  "language_info": {
   "codemirror_mode": {
    "name": "ipython",
    "version": 3
   },
   "file_extension": ".py",
   "mimetype": "text/x-python",
   "name": "python",
   "nbconvert_exporter": "python",
   "pygments_lexer": "ipython3",
   "version": "3.7.1"
  }
 },
 "nbformat": 4,
 "nbformat_minor": 2
}
