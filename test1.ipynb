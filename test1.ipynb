{
 "cells": [
  {
   "cell_type": "code",
   "execution_count": 2,
   "metadata": {},
   "outputs": [
    {
     "name": "stdout",
     "output_type": "stream",
     "text": [
      "thon\n"
     ]
    }
   ],
   "source": [
    "test = 'pythonprogramming'\n",
    "print(test[2:6])"
   ]
  },
  {
   "cell_type": "code",
   "execution_count": 4,
   "metadata": {},
   "outputs": [
    {
     "name": "stdout",
     "output_type": "stream",
     "text": [
      "Always executed\n",
      "Executed when invoked directly\n"
     ]
    }
   ],
   "source": [
    "print(\"Always executed\") \n",
    "  \n",
    "if __name__ == \"__main__\": \n",
    "    print(\"Executed when invoked directly\")\n",
    "else: \n",
    "    print(\"Executed when imported\") "
   ]
  },
  {
   "cell_type": "code",
   "execution_count": 7,
   "metadata": {},
   "outputs": [],
   "source": [
    "class Animal:\n",
    "    SOUND = None\n",
    "\n",
    "    def make_sound(self):\n",
    "        raise NotImplementedError\n",
    "\n",
    "\n",
    "class Dog(Animal):\n",
    "    SOUND = 'woof'\n",
    "\n",
    "    def __init__(self, name, age):\n",
    "        self.name = name\n",
    "        self.age = age\n",
    "        self.speed = 0\n",
    "        self.moving = False\n",
    "\n",
    "    @property\n",
    "    def human_age(self):\n",
    "        return self.age * 7\n",
    "\n",
    "    @human_age.setter\n",
    "    def human_age(self, value):\n",
    "        self.age = value / 7\n",
    "\n",
    "    def __str__(self):\n",
    "        return '{} is {} years old'.format(\n",
    "            self.name, self.age\n",
    "        )\n",
    "\n",
    "    def __eq__(self, other):\n",
    "        return self.name == other.name and self.age == other.age\n",
    "\n",
    "    def make_sound(self):\n",
    "        print(self.SOUND)\n",
    "\n",
    "    def bark(self):\n",
    "        self.make_sound()\n",
    "\n",
    "    def walk(self, speed, distance):\n",
    "        self._set_speed(speed)\n",
    "        self._move(distance)\n",
    "\n",
    "    @classmethod\n",
    "    def can_woof(cls, animal):\n",
    "        return animal.SOUND == cls.SOUND\n",
    "\n",
    "    @staticmethod\n",
    "    def is_dog(animal):\n",
    "        return animal.can_woof()\n",
    "\n",
    "    def _set_speed(self, speed):\n",
    "        self.speed = speed\n",
    "\n",
    "    def _move(self, distance):\n",
    "        self.moving = True\n",
    "        for _ in range(distance):\n",
    "            print('.', end='')\n",
    "        print('')"
   ]
  },
  {
   "cell_type": "code",
   "execution_count": null,
   "metadata": {},
   "outputs": [],
   "source": [
    "def fun_add(a,b):\n",
    "    return a+b\n",
    "i = int(input('Enter first no.'))\n",
    "j = int(input('Enter second no.'))\n",
    "print('addition is:', fun_add(i,j))"
   ]
  },
  {
   "cell_type": "code",
   "execution_count": null,
   "metadata": {},
   "outputs": [],
   "source": [
    "a = lambda a:a+10\n",
    "print(a(6))"
   ]
  },
  {
   "cell_type": "code",
   "execution_count": 26,
   "metadata": {
    "scrolled": true
   },
   "outputs": [
    {
     "name": "stdout",
     "output_type": "stream",
     "text": [
      "Enter the number?4\n",
      "4 X 1 = 4\n",
      "4 X 2 = 8\n",
      "4 X 3 = 12\n",
      "4 X 4 = 16\n",
      "4 X 5 = 20\n",
      "4 X 6 = 24\n",
      "4 X 7 = 28\n",
      "4 X 8 = 32\n",
      "4 X 9 = 36\n",
      "4 X 10 = 40\n"
     ]
    }
   ],
   "source": [
    "def table(n):  \n",
    "    return lambda a:a*n;  \n",
    "n = int(input(\"Enter the number?\"))  \n",
    "b = table(n) \n",
    "for i in range(1,11):  \n",
    "    print(n,\"X\",i,\"=\",b(i))    "
   ]
  },
  {
   "cell_type": "code",
   "execution_count": null,
   "metadata": {},
   "outputs": [],
   "source": [
    "import csv\n",
    "with open('testcsv.csv','rt') as f:\n",
    "    data = csv.reader(f)\n",
    "    #next(data)\n",
    "    with open('newcsv.csv','w') as newfile:\n",
    "        data2 = csv.writer(newfile, delimiter = '\\t')\n",
    "        for row in data:\n",
    "            data2.writerow(row)\n",
    "            #print(row[1:4])"
   ]
  },
  {
   "cell_type": "code",
   "execution_count": 12,
   "metadata": {},
   "outputs": [
    {
     "name": "stdout",
     "output_type": "stream",
     "text": [
      "Enter first no.60\n",
      "Enter second no.59\n",
      "Enter third no.30\n",
      "149\n"
     ]
    }
   ],
   "source": [
    "res = lambda a,b,c:a+b+c\n",
    "i = int(input(\"Enter first no.\"))\n",
    "j = int(input(\"Enter second no.\"))\n",
    "k = int(input(\"Enter third no.\"))\n",
    "print(res(i,j,k))"
   ]
  },
  {
   "cell_type": "code",
   "execution_count": 31,
   "metadata": {},
   "outputs": [
    {
     "name": "stdout",
     "output_type": "stream",
     "text": [
      "22\n"
     ]
    }
   ],
   "source": [
    "def myfun(n):\n",
    "    return lambda a:a*n\n",
    "\n",
    "varr = myfun(2)\n",
    "print(varr(11))\n",
    "        "
   ]
  },
  {
   "cell_type": "code",
   "execution_count": 6,
   "metadata": {},
   "outputs": [
    {
     "name": "stdout",
     "output_type": "stream",
     "text": [
      "(1, 100, 33, 32, 35)\n",
      "(2, 101, 33, 32, 36)\n",
      "(3, 125, 41, 40, 44)\n",
      "(4, 104, 34, 33, 37)\n",
      "(5, 106, 35, 34, 37)\n"
     ]
    }
   ],
   "source": [
    "import mysql.connector\n",
    "\n",
    "mydb = mysql.connector.connect(host=\"localhost\", user=\"root\",passwd=\"Aimsys\",database=\"aimsys\")\n",
    "mycursor = mydb.cursor()\n",
    "mycursor.execute(\"\"\"select distinct insurance.ins_id, insurance.ins_ammount,    \n",
    "cast((insurance.ins_ammount/100)*33 as signed) as premium, \n",
    "cast((insurance.ins_ammount/100)*32 as signed) as brokerage,\n",
    "\t(\n",
    "\t\tselect insurance.ins_ammount-(premium + brokerage \n",
    "        + (cast((insurance.ins_ammount/100)*35 as signed))) \n",
    "        + (cast((insurance.ins_ammount/100)*35 as signed)) \n",
    "\t) as admins\n",
    "from insurance\n",
    "group by ins_id;\"\"\")\n",
    "for i in mycursor:\n",
    "    print(i)\n",
    "\n",
    "\n"
   ]
  },
  {
   "cell_type": "code",
   "execution_count": 7,
   "metadata": {},
   "outputs": [
    {
     "name": "stdout",
     "output_type": "stream",
     "text": [
      "[1, 4, 9, 16, 25, 36]\n"
     ]
    }
   ],
   "source": [
    "def func(num):\n",
    "\t\"\"\"\n",
    "\tfunction that squares the given number\n",
    "\t\"\"\"\n",
    "\treturn num * num\n",
    " \n",
    "l = [1, 2, 3, 4, 5, 6]\n",
    " \n",
    "# map takes a function and apply to \n",
    "# each element on the list\n",
    "ans = list(map(func, l))\n",
    " \n",
    "# [1, 4, 9, 16, 25, 36]\n",
    "print(ans)"
   ]
  },
  {
   "cell_type": "code",
   "execution_count": 8,
   "metadata": {},
   "outputs": [
    {
     "name": "stdout",
     "output_type": "stream",
     "text": [
      "[1, 4, 9, 16, 25, 36]\n"
     ]
    }
   ],
   "source": [
    "l = [1, 2, 3, 4, 5, 6]\n",
    "ans = list(map(lambda x:x*x,l))\n",
    "print(ans)"
   ]
  },
  {
   "cell_type": "code",
   "execution_count": 12,
   "metadata": {},
   "outputs": [
    {
     "name": "stdout",
     "output_type": "stream",
     "text": [
      "[1, 4, 27, 16, 125, 36]\n"
     ]
    }
   ],
   "source": [
    "#Given a list of integers, write a code to square even numbers but cube the odd numbers.\n",
    "l = [1, 2, 3, 4, 5, 6]\n",
    "ans = list(map(lambda x:x**2 if x % 2 == 0 else x**3,l))\n",
    "print(ans)\n"
   ]
  },
  {
   "cell_type": "code",
   "execution_count": 13,
   "metadata": {},
   "outputs": [
    {
     "name": "stdout",
     "output_type": "stream",
     "text": [
      "[2, 4, 6]\n"
     ]
    }
   ],
   "source": [
    "#Given a list of integers, write a code to separate only even numbers from the list.\n",
    "l = [1, 2, 3, 4, 5, 6]\n",
    "ans = list(filter(lambda x:x % 2 == 0,l))\n",
    "print(ans)"
   ]
  }
 ],
 "metadata": {
  "kernelspec": {
   "display_name": "Python 3",
   "language": "python",
   "name": "python3"
  },
  "language_info": {
   "codemirror_mode": {
    "name": "ipython",
    "version": 3
   },
   "file_extension": ".py",
   "mimetype": "text/x-python",
   "name": "python",
   "nbconvert_exporter": "python",
   "pygments_lexer": "ipython3",
   "version": "3.7.1"
  }
 },
 "nbformat": 4,
 "nbformat_minor": 2
}
